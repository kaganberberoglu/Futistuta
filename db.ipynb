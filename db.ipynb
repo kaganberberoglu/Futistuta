{
 "cells": [
  {
   "cell_type": "code",
   "execution_count": 1,
   "metadata": {},
   "outputs": [],
   "source": [
    "import requests as req\n",
    "import pandas as pd\n",
    "from bs4 import BeautifulSoup as bs\n",
    "\n",
    "# pd.set_option(\"display.max_columns\", None)\n",
    "# pd.set_option(\"display.max_rows\", None)\n",
    "headers = {\n",
    "    \"User-Agent\": \"Mozilla/5.0 (Windows NT 10.0; Win64; x64) AppleWebKit/537.36 (KHTML, like Gecko) Chrome/116.0.0.0 Safari/537.36\"\n",
    "}"
   ]
  },
  {
   "cell_type": "code",
   "execution_count": null,
   "metadata": {},
   "outputs": [],
   "source": [
    "leagueTables = [\n",
    "    \"https://www.transfermarkt.com/premier-league/tabelle/wettbewerb/GB1/saison_id/2024\",\n",
    "    \"https://www.transfermarkt.com/laliga/tabelle/wettbewerb/ES1/saison_id/2024\",\n",
    "    \"https://www.transfermarkt.com/ligue-1/tabelle/wettbewerb/FR1/saison_id/2024\",\n",
    "    \"https://www.transfermarkt.com/bundesliga/tabelle/wettbewerb/L1/saison_id/2024\",\n",
    "    \"https://www.transfermarkt.com/serie-a/tabelle/wettbewerb/IT1/saison_id/2024\",\n",
    "]\n",
    "\n",
    "df0 = pd.DataFrame()\n",
    "for link in leagueTables:\n",
    "    re = req.get(link, headers=headers)\n",
    "    so = bs(re.content, \"html.parser\")\n",
    "    tb = so.select_one('table:contains(\"Goals\")')\n",
    "    df1 = pd.DataFrame(\n",
    "        {\n",
    "            \"Mini Team Crest\": [\n",
    "                (i[\"src\"]) for i in tb.select(\"tbody td:nth-of-type(2) a img\")\n",
    "            ],\n",
    "            \"Team\": [(i[\"title\"]) for i in tb.select(\"tbody td:nth-of-type(2) a img\")],\n",
    "            \"Team Link\": [\n",
    "                (\"https://www.transfermarkt.com\" + i[\"href\"] + \"/plus/1\")\n",
    "                for i in tb.select(\"tbody td:nth-of-type(3) a:nth-of-type(1)\")\n",
    "            ],\n",
    "            \"MP\": [(i.text) for i in tb.select(\"tbody td:nth-of-type(4)\")],\n",
    "            \"W\": [(i.text) for i in tb.select(\"tbody td:nth-of-type(5)\")],\n",
    "            \"D\": [(i.text) for i in tb.select(\"tbody td:nth-of-type(6)\")],\n",
    "            \"L\": [(i.text) for i in tb.select(\"tbody td:nth-of-type(7)\")],\n",
    "            \"Goals\": [(i.text) for i in tb.select(\"tbody td:nth-of-type(8)\")],\n",
    "            \"+/-\": [(i.text) for i in tb.select(\"tbody td:nth-of-type(9)\")],\n",
    "            \"Pts\": [(i.text) for i in tb.select(\"tbody td:nth-of-type(10)\")],\n",
    "        }\n",
    "    )\n",
    "\n",
    "    def decideLeague(x):\n",
    "        if link == leagueTables[0]:\n",
    "            x = \"EPL\"\n",
    "            return x\n",
    "        elif link == leagueTables[1]:\n",
    "            x = \"La Liga\"\n",
    "            return x\n",
    "        elif link == leagueTables[2]:\n",
    "            x = \"Ligue 1\"\n",
    "            return x\n",
    "        elif link == leagueTables[3]:\n",
    "            x = \"Bundesliga\"\n",
    "            return x\n",
    "        elif link == leagueTables[4]:\n",
    "            x = \"Serie A\"\n",
    "            return x\n",
    "\n",
    "    df1[\"League\"] = df1.apply(decideLeague, axis=1)\n",
    "\n",
    "    df0 = pd.concat([df0, df1], axis=0)\n",
    "\n",
    "\n",
    "def clubCrestBig(x):\n",
    "    return x[\"Mini Team Crest\"].replace(\"tiny\", \"head\")\n",
    "\n",
    "\n",
    "df0[\"Big Team Crest\"] = df0.apply(clubCrestBig, axis=1)\n",
    "df0.insert(1, \"Big Team Crest\", df0.pop(\"Big Team Crest\"))\n",
    "\n",
    "\n",
    "def teamLink(x):\n",
    "    return x[\"Team Link\"].replace(\"/spielplan/\", \"/kader/\")\n",
    "\n",
    "\n",
    "df0[\"Team Link\"] = df0.apply(teamLink, axis=1)\n",
    "\n",
    "\n",
    "def teamLinkSecondFirst(x):\n",
    "    return x[\"Team Link\"].replace(\"/kader/\", \"/leistungsdaten/\")\n",
    "\n",
    "\n",
    "df0[\"Team Link 2\"] = df0.apply(teamLinkSecondFirst, axis=1)\n",
    "\n",
    "\n",
    "def teamLinkSecondSecond(x):\n",
    "    if x[\"League\"] == \"EPL\":\n",
    "        return x[\"Team Link 2\"].replace(\"/saison_id/2024/\", \"/reldata/GB1%262024/\")\n",
    "    elif x[\"League\"] == \"La Liga\":\n",
    "        return x[\"Team Link 2\"].replace(\"/saison_id/2024/\", \"/reldata/ES1%262024/\")\n",
    "    elif x[\"League\"] == \"Ligue 1\":\n",
    "        return x[\"Team Link 2\"].replace(\"/saison_id/2024/\", \"/reldata/FR1%262024/\")\n",
    "    elif x[\"League\"] == \"Bundesliga\":\n",
    "        return x[\"Team Link 2\"].replace(\"/saison_id/2024/\", \"/reldata/L1%262024/\")\n",
    "    elif x[\"League\"] == \"Serie A\":\n",
    "        return x[\"Team Link 2\"].replace(\"/saison_id/2024/\", \"/reldata/IT1%262024/\")\n",
    "\n",
    "\n",
    "df0[\"Team Link 2\"] = df0.apply(teamLinkSecondSecond, axis=1)\n",
    "\n",
    "\n",
    "df0[\"Pts/MP\"] = df0[\"Pts\"].astype(int) / df0[\"MP\"].astype(int)\n",
    "df0[\"Pts/MP\"] = df0[\"Pts/MP\"].round(2)\n",
    "df2 = df0.sort_values(by=\"Team\", ascending=True)\n",
    "df3 = df2.reset_index(drop=True)\n",
    "\n",
    "df3"
   ]
  },
  {
   "cell_type": "code",
   "execution_count": null,
   "metadata": {},
   "outputs": [],
   "source": [
    "listPlayer = pd.DataFrame()\n",
    "for l in df3[\"Team Link\"]:\n",
    "    r = req.get(\n",
    "        l,\n",
    "        headers=headers,\n",
    "    )\n",
    "    s = bs(r.content, \"html.parser\")\n",
    "    t = s.find(\"table\", class_=\"items\")\n",
    "    rows = s.select(\"tbody tr\")\n",
    "    \n",
    "    innerListPlayer = pd.DataFrame(\n",
    "        {\n",
    "            \"Player\": [(i[\"title\"]) for i in t.select(\"tbody td:nth-of-type(1) img\")],\n",
    "            \"Position\": [\n",
    "                (i.text)\n",
    "                for i in t.select(\"tbody td:nth-of-type(2) tr td:nth-of-type(1)\")\n",
    "            ][1::2],\n",
    "            \"Age\": [(i.text) for i in t.select(\"tbody td:nth-of-type(3)\")],\n",
    "            \"Height\": [(i.text) for i in t.select(\"tbody td:nth-of-type(5)\")],\n",
    "            \"Foot\": [(i.text) for i in t.select(\"tbody td:nth-of-type(6)\")],\n",
    "            \"Market Value\": [(i.text) for i in t.select(\"tbody .rechts.hauptlink\")],\n",
    "        }\n",
    "    )\n",
    "\n",
    "    dataNation = [[td[\"title\"].strip() for td in row.select(\"td:nth-of-type(4) img\")] for row in rows]\n",
    "    filteredDataNation = [sublist for sublist in dataNation if sublist]\n",
    "    dataNationFlag = [[td[\"src\"].strip() for td in row.select(\"td:nth-of-type(4) img\")] for row in rows]\n",
    "    filteredDataNationFlag = [sublist for sublist in dataNationFlag if sublist]\n",
    "\n",
    "    filteredDataNationList = []\n",
    "    for i in filteredDataNation:\n",
    "        filteredDataNationList.append(i[0])\n",
    "\n",
    "    filteredDataNationFlagList = []\n",
    "    for i in filteredDataNationFlag:\n",
    "        filteredDataNationFlagList.append(i[0])\n",
    "\n",
    "    innerListPlayer[\"Nation\"] = filteredDataNationList\n",
    "    innerListPlayer[\"Nation Flag Link\"] = filteredDataNationFlagList\n",
    "\n",
    "    teams = s.find_all(\n",
    "        class_=\"data-header__headline-wrapper data-header__headline-wrapper--oswald\"\n",
    "    )\n",
    "    teamName = [team.get_text(strip=True) for team in teams]\n",
    "\n",
    "    def addTeamName(c):\n",
    "        c = teamName[0]\n",
    "        return c\n",
    "\n",
    "    innerListPlayer[\"Team\"] = innerListPlayer.apply(addTeamName, axis=1)\n",
    "\n",
    "    listPlayer = pd.concat([listPlayer, innerListPlayer], axis=0)\n",
    "\n",
    "listPlayer[\"Age\"] = listPlayer[\"Age\"].str[-3:-1]\n",
    "listPlayer[\"Position\"] = listPlayer[\"Position\"].replace(\"\\n\", \"\", regex=True)\n",
    "listPlayer[\"Position\"] = listPlayer[\"Position\"].str.strip()\n",
    "listPlayer.index = range(0, len(listPlayer))\n",
    "\n",
    "listPlayer"
   ]
  },
  {
   "cell_type": "code",
   "execution_count": null,
   "metadata": {},
   "outputs": [],
   "source": [
    "marketValueOne = listPlayer[listPlayer[\"Market Value\"].str.contains(\"k\")]\n",
    "listPlayer.drop(\n",
    "    listPlayer[listPlayer[\"Market Value\"].str.contains(\"k\")].index,\n",
    "    inplace=True,\n",
    ")\n",
    "\n",
    "marketValueSecond = marketValueOne[\n",
    "    marketValueOne[\"Market Value\"].str.contains(\"\\xa0\\xa0\")\n",
    "]\n",
    "marketValueOne.drop(\n",
    "    marketValueOne[marketValueOne[\"Market Value\"].str.contains(\"\\xa0\\xa0\")].index,\n",
    "    inplace=True,\n",
    ")"
   ]
  },
  {
   "cell_type": "code",
   "execution_count": null,
   "metadata": {},
   "outputs": [],
   "source": [
    "marketValueSeventh = pd.DataFrame()\n",
    "marketValueSeventh[\"Market Value\"] = marketValueOne[\"Market Value\"].str[1:-1]\n",
    "marketValueSeventh[\"Market Value\"] = pd.to_numeric(marketValueSeventh[\"Market Value\"])\n",
    "\n",
    "marketValueSeventh"
   ]
  },
  {
   "cell_type": "code",
   "execution_count": null,
   "metadata": {},
   "outputs": [],
   "source": [
    "valueList = []\n",
    "for value in marketValueSeventh[\"Market Value\"]:\n",
    "    if value < 100 and value > 0:\n",
    "        value = 0.1\n",
    "        valueList.append(value)\n",
    "    else:\n",
    "        value = round((value / 1000), 1)\n",
    "        valueList.append(value)\n",
    "\n",
    "valueList"
   ]
  },
  {
   "cell_type": "code",
   "execution_count": null,
   "metadata": {},
   "outputs": [],
   "source": [
    "marketValueSeventh[\"Market Value\"] = valueList\n",
    "marketValueSeventh"
   ]
  },
  {
   "cell_type": "code",
   "execution_count": null,
   "metadata": {},
   "outputs": [],
   "source": [
    "marketValueEighth = pd.DataFrame()\n",
    "marketValueEighth[\"Market Value\"] = marketValueSecond[\"Market Value\"].str[1:-3]\n",
    "marketValueEighth[\"Market Value\"] = pd.to_numeric(marketValueEighth[\"Market Value\"])\n",
    "\n",
    "marketValueEighth"
   ]
  },
  {
   "cell_type": "code",
   "execution_count": null,
   "metadata": {},
   "outputs": [],
   "source": [
    "otherValueList = []\n",
    "for v in marketValueEighth[\"Market Value\"]:\n",
    "    if v < 100 and v > 0:\n",
    "        v = 0.1\n",
    "        otherValueList.append(v)\n",
    "    else:\n",
    "        v = round((v / 1000), 1)\n",
    "        otherValueList.append(v)\n",
    "\n",
    "otherValueList"
   ]
  },
  {
   "cell_type": "code",
   "execution_count": null,
   "metadata": {},
   "outputs": [],
   "source": [
    "marketValueEighth[\"Market Value\"] = otherValueList\n",
    "marketValueEighth"
   ]
  },
  {
   "cell_type": "code",
   "execution_count": null,
   "metadata": {},
   "outputs": [],
   "source": [
    "marketValueOne.drop(columns=[\"Market Value\"], inplace=True)\n",
    "marketValueSecond.drop(columns=[\"Market Value\"], inplace=True)"
   ]
  },
  {
   "cell_type": "code",
   "execution_count": 12,
   "metadata": {},
   "outputs": [],
   "source": [
    "marketValueThird = pd.concat([marketValueOne, marketValueSeventh], axis=1)\n",
    "marketValueNinth = pd.concat([marketValueSecond, marketValueEighth], axis=1)\n",
    "\n",
    "marketValueTenth = pd.concat([marketValueThird, marketValueNinth], axis=0)"
   ]
  },
  {
   "cell_type": "code",
   "execution_count": null,
   "metadata": {},
   "outputs": [],
   "source": [
    "marketValueTenth"
   ]
  },
  {
   "cell_type": "code",
   "execution_count": null,
   "metadata": {},
   "outputs": [],
   "source": [
    "marketValueFourth = listPlayer[listPlayer[\"Market Value\"].str.contains(\"m\")]\n",
    "listPlayer.drop(\n",
    "    listPlayer[listPlayer[\"Market Value\"].str.contains(\"m\")].index,\n",
    "    inplace=True,\n",
    ")\n",
    "\n",
    "marketValueFifth = marketValueFourth[marketValueFourth[\"Market Value\"].str.contains(\"\\xa0\\xa0\")]\n",
    "marketValueFourth.drop(\n",
    "    marketValueFourth[marketValueFourth[\"Market Value\"].str.contains(\"\\xa0\\xa0\")].index,\n",
    "    inplace=True,\n",
    ")"
   ]
  },
  {
   "cell_type": "code",
   "execution_count": 15,
   "metadata": {},
   "outputs": [],
   "source": [
    "listPlayer[\"Market Value\"] = 0.0\n",
    "listPlayer.insert(4, \"Market Value\", listPlayer.pop(\"Market Value\"))"
   ]
  },
  {
   "cell_type": "code",
   "execution_count": null,
   "metadata": {},
   "outputs": [],
   "source": [
    "listPlayer"
   ]
  },
  {
   "cell_type": "code",
   "execution_count": null,
   "metadata": {},
   "outputs": [],
   "source": [
    "marketValueSixth = pd.DataFrame()\n",
    "marketValueSixth[\"Market Value\"] = marketValueFourth[\"Market Value\"].str[1:-1]\n",
    "marketValueSixth[\"Market Value\"] = pd.to_numeric(marketValueSixth[\"Market Value\"])\n",
    "\n",
    "marketValueSixth"
   ]
  },
  {
   "cell_type": "code",
   "execution_count": null,
   "metadata": {},
   "outputs": [],
   "source": [
    "marketValueEleventh = pd.DataFrame()\n",
    "marketValueEleventh[\"Market Value\"] = marketValueFifth[\"Market Value\"].str[1:-3]\n",
    "marketValueEleventh[\"Market Value\"] = pd.to_numeric(marketValueEleventh[\"Market Value\"])\n",
    "\n",
    "marketValueEleventh"
   ]
  },
  {
   "cell_type": "code",
   "execution_count": null,
   "metadata": {},
   "outputs": [],
   "source": [
    "marketValueFourth.drop(columns=[\"Market Value\"], inplace=True)\n",
    "marketValueFifth.drop(columns=[\"Market Value\"], inplace=True)"
   ]
  },
  {
   "cell_type": "code",
   "execution_count": 20,
   "metadata": {},
   "outputs": [],
   "source": [
    "marketValueTwelfth = pd.concat([marketValueFourth, marketValueSixth], axis=1)\n",
    "marketValueThirteenth = pd.concat([marketValueFifth, marketValueEleventh], axis=1)\n",
    "\n",
    "marketValueFourteenth = pd.concat([marketValueTwelfth, marketValueThirteenth], axis=0)"
   ]
  },
  {
   "cell_type": "code",
   "execution_count": null,
   "metadata": {},
   "outputs": [],
   "source": [
    "marketValueFourteenth"
   ]
  },
  {
   "cell_type": "code",
   "execution_count": null,
   "metadata": {},
   "outputs": [],
   "source": [
    "finalListPlayer = pd.concat(\n",
    "    [marketValueTenth, marketValueFourteenth, listPlayer], axis=0\n",
    ")\n",
    "finalListPlayer = finalListPlayer.reset_index(drop=True)\n",
    "finalListPlayer"
   ]
  },
  {
   "cell_type": "code",
   "execution_count": null,
   "metadata": {},
   "outputs": [],
   "source": [
    "listPlayerDetail = pd.DataFrame()\n",
    "for li in df3[\"Team Link 2\"]:\n",
    "\n",
    "    res = req.get(\n",
    "        li,\n",
    "        headers=headers,\n",
    "    )\n",
    "    sou = bs(res.content, \"html.parser\")\n",
    "    tbl = sou.select_one('table:contains(\"PPG\")')\n",
    "    innerListPlayerDetail = pd.DataFrame(\n",
    "        {\n",
    "            \"Player\": [(i[\"title\"]) for i in tbl.select(\"tbody td:nth-of-type(1) img\")],\n",
    "            \"Position\": [\n",
    "                (i.text)\n",
    "                for i in tbl.select(\"tbody td:nth-of-type(2) tr td:nth-of-type(1)\")\n",
    "            ][1::2],\n",
    "            \"Age\": [(i.text) for i in tbl.select(\"tbody td:nth-of-type(3)\")],\n",
    "            \"MP\": [(i.text) for i in tbl.select(\"tbody td:nth-of-type(6)\")],\n",
    "            \"Gls\": [(i.text) for i in tbl.select(\"tbody td:nth-of-type(7)\")],\n",
    "            \"Asts\": [(i.text) for i in tbl.select(\"tbody td:nth-of-type(8)\")],\n",
    "            \"YC\": [(i.text) for i in tbl.select(\"tbody td:nth-of-type(9)\")],\n",
    "            \"Second YC\": [(i.text) for i in tbl.select(\"tbody td:nth-of-type(10)\")],\n",
    "            \"RC\": [(i.text) for i in tbl.select(\"tbody td:nth-of-type(11)\")],\n",
    "            \"Subs On\": [(i.text) for i in tbl.select(\"tbody td:nth-of-type(12)\")],\n",
    "            \"Min\": [(i.text) for i in tbl.select(\"tbody td:nth-of-type(15)\")],\n",
    "        }\n",
    "    )\n",
    "\n",
    "    teams = sou.find_all(\n",
    "        class_=\"data-header__headline-wrapper data-header__headline-wrapper--oswald\"\n",
    "    )\n",
    "    teamNameDetail = [team.get_text(strip=True) for team in teams]\n",
    "\n",
    "    def addTeamNameDetail(c):\n",
    "        c = teamNameDetail[0]\n",
    "        return c\n",
    "\n",
    "    innerListPlayerDetail[\"Team\"] = innerListPlayerDetail.apply(\n",
    "        addTeamNameDetail, axis=1\n",
    "    )\n",
    "\n",
    "    listPlayerDetail = pd.concat([listPlayerDetail, innerListPlayerDetail], axis=0)"
   ]
  },
  {
   "cell_type": "code",
   "execution_count": null,
   "metadata": {},
   "outputs": [],
   "source": [
    "listPlayerDetail = listPlayerDetail.reset_index(drop=True)\n",
    "listPlayerDetail"
   ]
  },
  {
   "cell_type": "code",
   "execution_count": 25,
   "metadata": {},
   "outputs": [],
   "source": [
    "finalListPlayer[\"MP\"] = \"\"\n",
    "finalListPlayer[\"Gls\"] = \"\"\n",
    "finalListPlayer[\"Asts\"] = \"\"\n",
    "finalListPlayer[\"YC\"] = \"\"\n",
    "finalListPlayer[\"Second YC\"] = \"\"\n",
    "finalListPlayer[\"RC\"] = \"\"\n",
    "finalListPlayer[\"Subs On\"] = \"\"\n",
    "finalListPlayer[\"Min\"] = \"\"\n",
    "finalListPlayer[\"St\"] = \"\"\n",
    "\n",
    "for n in range(len(finalListPlayer[\"Player\"])):\n",
    "    for m in range(len(listPlayerDetail[\"Player\"])):\n",
    "        if ((finalListPlayer.loc[n, \"Player\"] == listPlayerDetail.loc[m, \"Player\"]) and (finalListPlayer.loc[n, \"Position\"] == listPlayerDetail.loc[m, \"Position\"]) and (finalListPlayer.loc[n, \"Age\"] == listPlayerDetail.loc[m, \"Age\"]) and (finalListPlayer.loc[n, \"Team\"] == listPlayerDetail.loc[m, \"Team\"])):\n",
    "            finalListPlayer.loc[n, \"MP\"] = listPlayerDetail.loc[m, \"MP\"]\n",
    "            finalListPlayer.loc[n, \"Gls\"] = listPlayerDetail.loc[m, \"Gls\"]\n",
    "            finalListPlayer.loc[n, \"Asts\"] = listPlayerDetail.loc[m, \"Asts\"]\n",
    "            finalListPlayer.loc[n, \"YC\"] = listPlayerDetail.loc[m, \"YC\"]\n",
    "            finalListPlayer.loc[n, \"Second YC\"] = listPlayerDetail.loc[m, \"Second YC\"]\n",
    "            finalListPlayer.loc[n, \"RC\"] = listPlayerDetail.loc[m, \"RC\"]\n",
    "            finalListPlayer.loc[n, \"Subs On\"] = listPlayerDetail.loc[m, \"Subs On\"]\n",
    "            finalListPlayer.loc[n, \"Min\"] = listPlayerDetail.loc[m, \"Min\"]"
   ]
  },
  {
   "cell_type": "code",
   "execution_count": null,
   "metadata": {},
   "outputs": [],
   "source": [
    "uniqueValues = finalListPlayer[\"MP\"].unique()\n",
    "uniqueValues"
   ]
  },
  {
   "cell_type": "code",
   "execution_count": null,
   "metadata": {},
   "outputs": [],
   "source": [
    "finalListPlayerFoot = finalListPlayer[finalListPlayer[\"Foot\"].str.contains(\"\\xa0\")]\n",
    "finalListPlayer.drop(\n",
    "    finalListPlayer[finalListPlayer[\"Foot\"].str.contains(\"\\xa0\")].index,\n",
    "    inplace=True,\n",
    ")\n",
    "finalListPlayerFoot[\"Foot\"] = finalListPlayerFoot[\"Foot\"].str[:-10]\n",
    "\n",
    "finalListPlayer = pd.concat([finalListPlayer, finalListPlayerFoot], axis=0)"
   ]
  },
  {
   "cell_type": "code",
   "execution_count": null,
   "metadata": {},
   "outputs": [],
   "source": [
    "finalListPlayer[\"MP\"] = finalListPlayer[\"MP\"].replace(\"Not used during this season\", 0)\n",
    "finalListPlayer[\"MP\"] = finalListPlayer[\"MP\"].replace(\"Not in squad during this season\", 0)\n",
    "finalListPlayer[\"MP\"] = finalListPlayer[\"MP\"].replace(\"\", 0)\n",
    "finalListPlayer[\"Gls\"] = finalListPlayer[\"Gls\"].replace(\"-\", 0)\n",
    "finalListPlayer[\"Gls\"] = finalListPlayer[\"Gls\"].replace(\"\", 0)\n",
    "finalListPlayer[\"Asts\"] = finalListPlayer[\"Asts\"].replace(\"-\", 0)\n",
    "finalListPlayer[\"Asts\"] = finalListPlayer[\"Asts\"].replace(\"\", 0)\n",
    "finalListPlayer[\"YC\"] = finalListPlayer[\"YC\"].replace(\"-\", 0)\n",
    "finalListPlayer[\"YC\"] = finalListPlayer[\"YC\"].replace(\"\", 0)\n",
    "finalListPlayer[\"Second YC\"] = finalListPlayer[\"Second YC\"].replace(\"-\", 0)\n",
    "finalListPlayer[\"Second YC\"] = finalListPlayer[\"Second YC\"].replace(\"\", 0)\n",
    "finalListPlayer[\"RC\"] = finalListPlayer[\"RC\"].replace(\"-\", 0)\n",
    "finalListPlayer[\"RC\"] = finalListPlayer[\"RC\"].replace(\"\", 0)\n",
    "finalListPlayer[\"Subs On\"] = finalListPlayer[\"Subs On\"].replace(\"-\", 0)\n",
    "finalListPlayer[\"Subs On\"] = finalListPlayer[\"Subs On\"].replace(\"\", 0)\n",
    "finalListPlayer[\"Min\"] = finalListPlayer[\"Min\"].replace(\"-\", 0)\n",
    "finalListPlayer[\"Min\"] = finalListPlayer[\"Min\"].replace(\"\", 0)\n",
    "finalListPlayer[\"St\"] = finalListPlayer[\"St\"].replace(\"-\", 0)\n",
    "finalListPlayer[\"St\"] = finalListPlayer[\"St\"].replace(\"\", 0)\n",
    "finalListPlayer[\"Position\"] = finalListPlayer[\"Position\"].replace(\"\", \"-\")\n",
    "finalListPlayer[\"Age\"] = finalListPlayer[\"Age\"].replace(\"\", \"-\")\n",
    "finalListPlayer[\"Height\"] = finalListPlayer[\"Height\"].replace(\"\", \"-\")\n",
    "finalListPlayer[\"Foot\"] = finalListPlayer[\"Foot\"].replace(\"\", \"-\")\n",
    "finalListPlayer[\"Nation\"] = finalListPlayer[\"Nation\"].replace(\"\", \"-\")"
   ]
  },
  {
   "cell_type": "code",
   "execution_count": 29,
   "metadata": {},
   "outputs": [],
   "source": [
    "finalListPlayer[\"MP\"] = finalListPlayer[\"MP\"].astype(int)\n",
    "finalListPlayer[\"Subs On\"] = finalListPlayer[\"Subs On\"].astype(int)\n",
    "\n",
    "finalListPlayer[\"St\"] = finalListPlayer[\"MP\"].sub(finalListPlayer[\"Subs On\"], fill_value=0)"
   ]
  },
  {
   "cell_type": "code",
   "execution_count": null,
   "metadata": {},
   "outputs": [],
   "source": [
    "uniquePositions = finalListPlayer[\"Position\"].unique()\n",
    "uniquePositions"
   ]
  },
  {
   "cell_type": "code",
   "execution_count": 31,
   "metadata": {},
   "outputs": [],
   "source": [
    "finalListPlayer[\"Position\"] = finalListPlayer[\"Position\"].replace(\"Goalkeeper\", \"GK\")\n",
    "finalListPlayer[\"Position\"] = finalListPlayer[\"Position\"].replace(\n",
    "    [\"Centre-Back\", \"Left-Back\", \"Right-Back\"], \"DF\"\n",
    ")\n",
    "finalListPlayer[\"Position\"] = finalListPlayer[\"Position\"].replace(\n",
    "    [\n",
    "        \"Defensive Midfield\",\n",
    "        \"Central Midfield\",\n",
    "        \"Right Midfield\",\n",
    "        \"Left Midfield\",\n",
    "        \"Attacking Midfield\",\n",
    "    ],\n",
    "    \"MF\",\n",
    ")\n",
    "finalListPlayer[\"Position\"] = finalListPlayer[\"Position\"].replace(\n",
    "    [\"Centre-Forward\", \"Left Winger\", \"Right Winger\", \"Second Striker\"], \"FW\"\n",
    ")"
   ]
  },
  {
   "cell_type": "code",
   "execution_count": 32,
   "metadata": {},
   "outputs": [],
   "source": [
    "finalListPlayer[\"Mini Team Crest\"] = \"\"\n",
    "finalListPlayer[\"Big Team Crest\"] = \"\"\n",
    "finalListPlayer[\"League\"] = \"\"\n",
    "finalListPlayer[\"Team Link\"] = \"\"\n",
    "finalListPlayer[\"Team Link 2\"] = \"\"\n",
    "\n",
    "for p in range(len(finalListPlayer[\"Team\"])):\n",
    "    for r in range(len(df3[\"Team\"])):\n",
    "        if finalListPlayer.loc[p, \"Team\"] == df3.loc[r, \"Team\"]:\n",
    "            finalListPlayer.loc[p, \"Mini Team Crest\"] = df3.loc[r, \"Mini Team Crest\"]\n",
    "            finalListPlayer.loc[p, \"Big Team Crest\"] = df3.loc[r, \"Big Team Crest\"]\n",
    "            finalListPlayer.loc[p, \"League\"] = df3.loc[r, \"League\"]\n",
    "            finalListPlayer.loc[p, \"Team Link\"] = df3.loc[r, \"Team Link\"]\n",
    "            finalListPlayer.loc[p, \"Team Link 2\"] = df3.loc[r, \"Team Link 2\"]"
   ]
  },
  {
   "cell_type": "code",
   "execution_count": 33,
   "metadata": {},
   "outputs": [],
   "source": [
    "finalListPlayerMin = finalListPlayer[finalListPlayer[\"Min\"] == 0]\n",
    "finalListPlayer.drop(\n",
    "    finalListPlayer[finalListPlayer[\"Min\"] == 0].index,\n",
    "    inplace=True,\n",
    ")\n",
    "\n",
    "finalListPlayer[\"Min\"] = finalListPlayer[\"Min\"].str.replace(\".\", \"\")\n",
    "finalListPlayer[\"Min\"] = finalListPlayer[\"Min\"].str[:-1]\n",
    "finalListPlayer[\"Min\"] = finalListPlayer[\"Min\"].astype(int)"
   ]
  },
  {
   "cell_type": "code",
   "execution_count": 34,
   "metadata": {},
   "outputs": [],
   "source": [
    "finalListPlayer = pd.concat([finalListPlayer, finalListPlayerMin], axis=0)"
   ]
  },
  {
   "cell_type": "code",
   "execution_count": 35,
   "metadata": {},
   "outputs": [],
   "source": [
    "finalListPlayer = finalListPlayer.sort_values(by=\"Team\")\n",
    "finalListPlayer = finalListPlayer.reset_index(drop=True)"
   ]
  },
  {
   "cell_type": "code",
   "execution_count": 48,
   "metadata": {},
   "outputs": [],
   "source": [
    "finalListPlayer.insert(10, \"St\", finalListPlayer.pop(\"St\"))\n",
    "finalListPlayer.insert(7, \"League\", finalListPlayer.pop(\"League\"))"
   ]
  },
  {
   "cell_type": "code",
   "execution_count": null,
   "metadata": {},
   "outputs": [],
   "source": [
    "finalListPlayer"
   ]
  },
  {
   "cell_type": "code",
   "execution_count": 50,
   "metadata": {},
   "outputs": [],
   "source": [
    "df3.insert(10, \"Pts/MP\", df3.pop(\"Pts/MP\"))\n",
    "df3.insert(12, \"Team Link\", df3.pop(\"Team Link\"))\n",
    "df3.insert(13, \"Mini Team Crest\", df3.pop(\"Mini Team Crest\"))\n",
    "df3.insert(13, \"Big Team Crest\", df3.pop(\"Big Team Crest\"))\n",
    "\n",
    "df3 = df3.sort_values(by=\"Pts/MP\", ascending=False)\n",
    "df3 = df3.reset_index(drop=True)"
   ]
  },
  {
   "cell_type": "code",
   "execution_count": null,
   "metadata": {},
   "outputs": [],
   "source": [
    "df3"
   ]
  }
 ],
 "metadata": {
  "kernelspec": {
   "display_name": "venv",
   "language": "python",
   "name": "python3"
  },
  "language_info": {
   "codemirror_mode": {
    "name": "ipython",
    "version": 3
   },
   "file_extension": ".py",
   "mimetype": "text/x-python",
   "name": "python",
   "nbconvert_exporter": "python",
   "pygments_lexer": "ipython3",
   "version": "3.13.0"
  }
 },
 "nbformat": 4,
 "nbformat_minor": 2
}
