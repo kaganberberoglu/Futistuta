{
 "cells": [
  {
   "cell_type": "code",
   "execution_count": 1,
   "metadata": {},
   "outputs": [],
   "source": [
    "import requests as req\n",
    "import pandas as pd\n",
    "from bs4 import BeautifulSoup as bs\n",
    "\n",
    "# pd.set_option(\"display.max_columns\", None)\n",
    "# pd.set_option(\"display.max_rows\", None)\n",
    "headers = {\n",
    "    \"User-Agent\": \"Mozilla/5.0 (Windows NT 10.0; Win64; x64) AppleWebKit/537.36 (KHTML, like Gecko) Chrome/116.0.0.0 Safari/537.36\"\n",
    "}"
   ]
  },
  {
   "cell_type": "code",
   "execution_count": null,
   "metadata": {},
   "outputs": [],
   "source": [
    "leagueTables = [\n",
    "    \"https://www.transfermarkt.com/premier-league/tabelle/wettbewerb/GB1/saison_id/2024\",\n",
    "    \"https://www.transfermarkt.com/laliga/tabelle/wettbewerb/ES1/saison_id/2024\",\n",
    "    \"https://www.transfermarkt.com/ligue-1/tabelle/wettbewerb/FR1/saison_id/2024\",\n",
    "    \"https://www.transfermarkt.com/bundesliga/tabelle/wettbewerb/L1/saison_id/2024\",\n",
    "    \"https://www.transfermarkt.com/serie-a/tabelle/wettbewerb/IT1/saison_id/2024\",\n",
    "]\n",
    "\n",
    "listClub = pd.DataFrame()\n",
    "for link in leagueTables:\n",
    "    re = req.get(link, headers=headers)\n",
    "    so = bs(re.content, \"html.parser\")\n",
    "    tb = so.select_one('table:contains(\"Goals\")')\n",
    "    innerListClub = pd.DataFrame(\n",
    "        {\n",
    "            \"Mini Team Crest\": [\n",
    "                (i[\"src\"]) for i in tb.select(\"tbody td:nth-of-type(2) a img\")\n",
    "            ],\n",
    "            \"Team\": [(i[\"title\"]) for i in tb.select(\"tbody td:nth-of-type(2) a img\")],\n",
    "            \"Team Link\": [\n",
    "                (\"https://www.transfermarkt.com\" + i[\"href\"] + \"/plus/1\")\n",
    "                for i in tb.select(\"tbody td:nth-of-type(3) a:nth-of-type(1)\")\n",
    "            ],\n",
    "            \"MP\": [(i.text) for i in tb.select(\"tbody td:nth-of-type(4)\")],\n",
    "            \"W\": [(i.text) for i in tb.select(\"tbody td:nth-of-type(5)\")],\n",
    "            \"D\": [(i.text) for i in tb.select(\"tbody td:nth-of-type(6)\")],\n",
    "            \"L\": [(i.text) for i in tb.select(\"tbody td:nth-of-type(7)\")],\n",
    "            \"Goals\": [(i.text) for i in tb.select(\"tbody td:nth-of-type(8)\")],\n",
    "            \"+/-\": [(i.text) for i in tb.select(\"tbody td:nth-of-type(9)\")],\n",
    "            \"Pts\": [(i.text) for i in tb.select(\"tbody td:nth-of-type(10)\")],\n",
    "        }\n",
    "    )\n",
    "\n",
    "    def decideLeague(x):\n",
    "        if link == leagueTables[0]:\n",
    "            x = \"EPL\"\n",
    "            return x\n",
    "        elif link == leagueTables[1]:\n",
    "            x = \"La Liga\"\n",
    "            return x\n",
    "        elif link == leagueTables[2]:\n",
    "            x = \"Ligue 1\"\n",
    "            return x\n",
    "        elif link == leagueTables[3]:\n",
    "            x = \"Bundesliga\"\n",
    "            return x\n",
    "        elif link == leagueTables[4]:\n",
    "            x = \"Serie A\"\n",
    "            return x\n",
    "\n",
    "    innerListClub[\"League\"] = innerListClub.apply(decideLeague, axis=1)\n",
    "\n",
    "    listClub = pd.concat([listClub, innerListClub], axis=0)\n",
    "\n",
    "\n",
    "def clubCrestBig(x):\n",
    "    return x[\"Mini Team Crest\"].replace(\"tiny\", \"head\")\n",
    "\n",
    "\n",
    "listClub[\"Big Team Crest\"] = listClub.apply(clubCrestBig, axis=1)\n",
    "listClub.insert(1, \"Big Team Crest\", listClub.pop(\"Big Team Crest\"))\n",
    "\n",
    "\n",
    "def teamLink(x):\n",
    "    return x[\"Team Link\"].replace(\"/spielplan/\", \"/kader/\")\n",
    "\n",
    "\n",
    "listClub[\"Team Link\"] = listClub.apply(teamLink, axis=1)\n",
    "\n",
    "\n",
    "def teamLinkSecondFirst(x):\n",
    "    return x[\"Team Link\"].replace(\"/kader/\", \"/leistungsdaten/\")\n",
    "\n",
    "\n",
    "listClub[\"Team Link 2\"] = listClub.apply(teamLinkSecondFirst, axis=1)\n",
    "\n",
    "\n",
    "def teamLinkSecondSecond(x):\n",
    "    if x[\"League\"] == \"EPL\":\n",
    "        return x[\"Team Link 2\"].replace(\"/saison_id/2024/\", \"/reldata/GB1%262024/\")\n",
    "    elif x[\"League\"] == \"La Liga\":\n",
    "        return x[\"Team Link 2\"].replace(\"/saison_id/2024/\", \"/reldata/ES1%262024/\")\n",
    "    elif x[\"League\"] == \"Ligue 1\":\n",
    "        return x[\"Team Link 2\"].replace(\"/saison_id/2024/\", \"/reldata/FR1%262024/\")\n",
    "    elif x[\"League\"] == \"Bundesliga\":\n",
    "        return x[\"Team Link 2\"].replace(\"/saison_id/2024/\", \"/reldata/L1%262024/\")\n",
    "    elif x[\"League\"] == \"Serie A\":\n",
    "        return x[\"Team Link 2\"].replace(\"/saison_id/2024/\", \"/reldata/IT1%262024/\")\n",
    "\n",
    "\n",
    "listClub[\"Team Link 2\"] = listClub.apply(teamLinkSecondSecond, axis=1)\n",
    "\n",
    "\n",
    "listClub[\"Pts/MP\"] = listClub[\"Pts\"].astype(int) / listClub[\"MP\"].astype(int)\n",
    "listClub[\"Pts/MP\"] = listClub[\"Pts/MP\"].round(2)\n",
    "listClubDetails = listClub.sort_values(by=\"Team\", ascending=True)\n",
    "finalListClub = listClubDetails.reset_index(drop=True)\n",
    "\n",
    "finalListClub"
   ]
  },
  {
   "cell_type": "code",
   "execution_count": null,
   "metadata": {},
   "outputs": [],
   "source": [
    "listPlayer = pd.DataFrame()\n",
    "for l in finalListClub[\"Team Link\"]:\n",
    "    r = req.get(\n",
    "        l,\n",
    "        headers=headers,\n",
    "    )\n",
    "    s = bs(r.content, \"html.parser\")\n",
    "    t = s.find(\"table\", class_=\"items\")\n",
    "    rows = s.select(\"tbody tr\")\n",
    "    \n",
    "    innerListPlayer = pd.DataFrame(\n",
    "        {\n",
    "            \"Player\": [(i[\"title\"]) for i in t.select(\"tbody td:nth-of-type(1) img\")],\n",
    "            \"Position\": [\n",
    "                (i.text)\n",
    "                for i in t.select(\"tbody td:nth-of-type(2) tr td:nth-of-type(1)\")\n",
    "            ][1::2],\n",
    "            \"Age\": [(i.text) for i in t.select(\"tbody td:nth-of-type(3)\")],\n",
    "            \"Height\": [(i.text) for i in t.select(\"tbody td:nth-of-type(5)\")],\n",
    "            \"Foot\": [(i.text) for i in t.select(\"tbody td:nth-of-type(6)\")],\n",
    "            \"Market Value\": [(i.text) for i in t.select(\"tbody .rechts.hauptlink\")],\n",
    "        }\n",
    "    )\n",
    "\n",
    "    dataNation = [[td[\"title\"].strip() for td in row.select(\"td:nth-of-type(4) img\")] for row in rows]\n",
    "    filteredDataNation = [sublist for sublist in dataNation if sublist]\n",
    "    dataNationFlag = [[td[\"src\"].strip() for td in row.select(\"td:nth-of-type(4) img\")] for row in rows]\n",
    "    filteredDataNationFlag = [sublist for sublist in dataNationFlag if sublist]\n",
    "\n",
    "    filteredDataNationList = []\n",
    "    for i in filteredDataNation:\n",
    "        filteredDataNationList.append(i[0])\n",
    "\n",
    "    filteredDataNationFlagList = []\n",
    "    for i in filteredDataNationFlag:\n",
    "        filteredDataNationFlagList.append(i[0])\n",
    "\n",
    "    innerListPlayer[\"Nation\"] = filteredDataNationList\n",
    "    innerListPlayer[\"Nation Flag Link\"] = filteredDataNationFlagList\n",
    "\n",
    "    teams = s.find_all(\n",
    "        class_=\"data-header__headline-wrapper data-header__headline-wrapper--oswald\"\n",
    "    )\n",
    "    teamName = [team.get_text(strip=True) for team in teams]\n",
    "\n",
    "    def addTeamName(c):\n",
    "        c = teamName[0]\n",
    "        return c\n",
    "\n",
    "    innerListPlayer[\"Team\"] = innerListPlayer.apply(addTeamName, axis=1)\n",
    "\n",
    "    listPlayer = pd.concat([listPlayer, innerListPlayer], axis=0)\n",
    "\n",
    "listPlayer[\"Age\"] = listPlayer[\"Age\"].str[-3:-1]\n",
    "listPlayer[\"Position\"] = listPlayer[\"Position\"].replace(\"\\n\", \"\", regex=True)\n",
    "listPlayer[\"Position\"] = listPlayer[\"Position\"].str.strip()\n",
    "listPlayer.index = range(0, len(listPlayer))\n",
    "\n",
    "listPlayer"
   ]
  },
  {
   "cell_type": "code",
   "execution_count": null,
   "metadata": {},
   "outputs": [],
   "source": [
    "marketValueOne = listPlayer[listPlayer[\"Market Value\"].str.contains(\"k\")]\n",
    "listPlayer.drop(\n",
    "    listPlayer[listPlayer[\"Market Value\"].str.contains(\"k\")].index,\n",
    "    inplace=True,\n",
    ")\n",
    "\n",
    "marketValueSecond = marketValueOne[\n",
    "    marketValueOne[\"Market Value\"].str.contains(\"\\xa0\\xa0\")\n",
    "]\n",
    "marketValueOne.drop(\n",
    "    marketValueOne[marketValueOne[\"Market Value\"].str.contains(\"\\xa0\\xa0\")].index,\n",
    "    inplace=True,\n",
    ")"
   ]
  },
  {
   "cell_type": "code",
   "execution_count": null,
   "metadata": {},
   "outputs": [],
   "source": [
    "marketValueSeventh = pd.DataFrame()\n",
    "marketValueSeventh[\"Market Value\"] = marketValueOne[\"Market Value\"].str[1:-1]\n",
    "marketValueSeventh[\"Market Value\"] = pd.to_numeric(marketValueSeventh[\"Market Value\"])\n",
    "\n",
    "marketValueSeventh"
   ]
  },
  {
   "cell_type": "code",
   "execution_count": null,
   "metadata": {},
   "outputs": [],
   "source": [
    "valueList = []\n",
    "for value in marketValueSeventh[\"Market Value\"]:\n",
    "    if value < 100 and value > 0:\n",
    "        value = 0.1\n",
    "        valueList.append(value)\n",
    "    else:\n",
    "        value = round((value / 1000), 1)\n",
    "        valueList.append(value)\n",
    "\n",
    "valueList"
   ]
  },
  {
   "cell_type": "code",
   "execution_count": null,
   "metadata": {},
   "outputs": [],
   "source": [
    "marketValueSeventh[\"Market Value\"] = valueList\n",
    "marketValueSeventh"
   ]
  },
  {
   "cell_type": "code",
   "execution_count": null,
   "metadata": {},
   "outputs": [],
   "source": [
    "marketValueEighth = pd.DataFrame()\n",
    "marketValueEighth[\"Market Value\"] = marketValueSecond[\"Market Value\"].str[1:-3]\n",
    "marketValueEighth[\"Market Value\"] = pd.to_numeric(marketValueEighth[\"Market Value\"])\n",
    "\n",
    "marketValueEighth"
   ]
  },
  {
   "cell_type": "code",
   "execution_count": null,
   "metadata": {},
   "outputs": [],
   "source": [
    "otherValueList = []\n",
    "for v in marketValueEighth[\"Market Value\"]:\n",
    "    if v < 100 and v > 0:\n",
    "        v = 0.1\n",
    "        otherValueList.append(v)\n",
    "    else:\n",
    "        v = round((v / 1000), 1)\n",
    "        otherValueList.append(v)\n",
    "\n",
    "otherValueList"
   ]
  },
  {
   "cell_type": "code",
   "execution_count": null,
   "metadata": {},
   "outputs": [],
   "source": [
    "marketValueEighth[\"Market Value\"] = otherValueList\n",
    "marketValueEighth"
   ]
  },
  {
   "cell_type": "code",
   "execution_count": null,
   "metadata": {},
   "outputs": [],
   "source": [
    "marketValueOne.drop(columns=[\"Market Value\"], inplace=True)\n",
    "marketValueSecond.drop(columns=[\"Market Value\"], inplace=True)"
   ]
  },
  {
   "cell_type": "code",
   "execution_count": 12,
   "metadata": {},
   "outputs": [],
   "source": [
    "marketValueThird = pd.concat([marketValueOne, marketValueSeventh], axis=1)\n",
    "marketValueNinth = pd.concat([marketValueSecond, marketValueEighth], axis=1)\n",
    "\n",
    "marketValueTenth = pd.concat([marketValueThird, marketValueNinth], axis=0)"
   ]
  },
  {
   "cell_type": "code",
   "execution_count": null,
   "metadata": {},
   "outputs": [],
   "source": [
    "marketValueTenth"
   ]
  },
  {
   "cell_type": "code",
   "execution_count": null,
   "metadata": {},
   "outputs": [],
   "source": [
    "marketValueFourth = listPlayer[listPlayer[\"Market Value\"].str.contains(\"m\")]\n",
    "listPlayer.drop(\n",
    "    listPlayer[listPlayer[\"Market Value\"].str.contains(\"m\")].index,\n",
    "    inplace=True,\n",
    ")\n",
    "\n",
    "marketValueFifth = marketValueFourth[marketValueFourth[\"Market Value\"].str.contains(\"\\xa0\\xa0\")]\n",
    "marketValueFourth.drop(\n",
    "    marketValueFourth[marketValueFourth[\"Market Value\"].str.contains(\"\\xa0\\xa0\")].index,\n",
    "    inplace=True,\n",
    ")"
   ]
  },
  {
   "cell_type": "code",
   "execution_count": 15,
   "metadata": {},
   "outputs": [],
   "source": [
    "listPlayer[\"Market Value\"] = 0.0\n",
    "listPlayer.insert(4, \"Market Value\", listPlayer.pop(\"Market Value\"))"
   ]
  },
  {
   "cell_type": "code",
   "execution_count": null,
   "metadata": {},
   "outputs": [],
   "source": [
    "listPlayer"
   ]
  },
  {
   "cell_type": "code",
   "execution_count": null,
   "metadata": {},
   "outputs": [],
   "source": [
    "marketValueSixth = pd.DataFrame()\n",
    "marketValueSixth[\"Market Value\"] = marketValueFourth[\"Market Value\"].str[1:-1]\n",
    "marketValueSixth[\"Market Value\"] = pd.to_numeric(marketValueSixth[\"Market Value\"])\n",
    "\n",
    "marketValueSixth"
   ]
  },
  {
   "cell_type": "code",
   "execution_count": null,
   "metadata": {},
   "outputs": [],
   "source": [
    "marketValueEleventh = pd.DataFrame()\n",
    "marketValueEleventh[\"Market Value\"] = marketValueFifth[\"Market Value\"].str[1:-3]\n",
    "marketValueEleventh[\"Market Value\"] = pd.to_numeric(marketValueEleventh[\"Market Value\"])\n",
    "\n",
    "marketValueEleventh"
   ]
  },
  {
   "cell_type": "code",
   "execution_count": null,
   "metadata": {},
   "outputs": [],
   "source": [
    "marketValueFourth.drop(columns=[\"Market Value\"], inplace=True)\n",
    "marketValueFifth.drop(columns=[\"Market Value\"], inplace=True)"
   ]
  },
  {
   "cell_type": "code",
   "execution_count": 20,
   "metadata": {},
   "outputs": [],
   "source": [
    "marketValueTwelfth = pd.concat([marketValueFourth, marketValueSixth], axis=1)\n",
    "marketValueThirteenth = pd.concat([marketValueFifth, marketValueEleventh], axis=1)\n",
    "\n",
    "marketValueFourteenth = pd.concat([marketValueTwelfth, marketValueThirteenth], axis=0)"
   ]
  },
  {
   "cell_type": "code",
   "execution_count": null,
   "metadata": {},
   "outputs": [],
   "source": [
    "marketValueFourteenth"
   ]
  },
  {
   "cell_type": "code",
   "execution_count": null,
   "metadata": {},
   "outputs": [],
   "source": [
    "finalListPlayer = pd.concat(\n",
    "    [marketValueTenth, marketValueFourteenth, listPlayer], axis=0\n",
    ")\n",
    "finalListPlayer = finalListPlayer.reset_index(drop=True)\n",
    "finalListPlayer"
   ]
  },
  {
   "cell_type": "code",
   "execution_count": null,
   "metadata": {},
   "outputs": [],
   "source": [
    "listPlayerDetail = pd.DataFrame()\n",
    "for li in finalListClub[\"Team Link 2\"]:\n",
    "\n",
    "    res = req.get(\n",
    "        li,\n",
    "        headers=headers,\n",
    "    )\n",
    "    sou = bs(res.content, \"html.parser\")\n",
    "    tbl = sou.select_one('table:contains(\"PPG\")')\n",
    "    innerListPlayerDetail = pd.DataFrame(\n",
    "        {\n",
    "            \"Player\": [(i[\"title\"]) for i in tbl.select(\"tbody td:nth-of-type(1) img\")],\n",
    "            \"Position\": [\n",
    "                (i.text)\n",
    "                for i in tbl.select(\"tbody td:nth-of-type(2) tr td:nth-of-type(1)\")\n",
    "            ][1::2],\n",
    "            \"Age\": [(i.text) for i in tbl.select(\"tbody td:nth-of-type(3)\")],\n",
    "            \"MP\": [(i.text) for i in tbl.select(\"tbody td:nth-of-type(6)\")],\n",
    "            \"Gls\": [(i.text) for i in tbl.select(\"tbody td:nth-of-type(7)\")],\n",
    "            \"Asts\": [(i.text) for i in tbl.select(\"tbody td:nth-of-type(8)\")],\n",
    "            \"YC\": [(i.text) for i in tbl.select(\"tbody td:nth-of-type(9)\")],\n",
    "            \"Second YC\": [(i.text) for i in tbl.select(\"tbody td:nth-of-type(10)\")],\n",
    "            \"RC\": [(i.text) for i in tbl.select(\"tbody td:nth-of-type(11)\")],\n",
    "            \"Subs On\": [(i.text) for i in tbl.select(\"tbody td:nth-of-type(12)\")],\n",
    "            \"Min\": [(i.text) for i in tbl.select(\"tbody td:nth-of-type(15)\")],\n",
    "        }\n",
    "    )\n",
    "\n",
    "    teams = sou.find_all(\n",
    "        class_=\"data-header__headline-wrapper data-header__headline-wrapper--oswald\"\n",
    "    )\n",
    "    teamNameDetail = [team.get_text(strip=True) for team in teams]\n",
    "\n",
    "    def addTeamNameDetail(c):\n",
    "        c = teamNameDetail[0]\n",
    "        return c\n",
    "\n",
    "    innerListPlayerDetail[\"Team\"] = innerListPlayerDetail.apply(\n",
    "        addTeamNameDetail, axis=1\n",
    "    )\n",
    "\n",
    "    listPlayerDetail = pd.concat([listPlayerDetail, innerListPlayerDetail], axis=0)"
   ]
  },
  {
   "cell_type": "code",
   "execution_count": null,
   "metadata": {},
   "outputs": [],
   "source": [
    "listPlayerDetail = listPlayerDetail.reset_index(drop=True)\n",
    "listPlayerDetail"
   ]
  },
  {
   "cell_type": "code",
   "execution_count": 25,
   "metadata": {},
   "outputs": [],
   "source": [
    "finalListPlayer[\"MP\"] = \"\"\n",
    "finalListPlayer[\"Gls\"] = \"\"\n",
    "finalListPlayer[\"Asts\"] = \"\"\n",
    "finalListPlayer[\"YC\"] = \"\"\n",
    "finalListPlayer[\"Second YC\"] = \"\"\n",
    "finalListPlayer[\"RC\"] = \"\"\n",
    "finalListPlayer[\"Subs On\"] = \"\"\n",
    "finalListPlayer[\"Min\"] = \"\"\n",
    "finalListPlayer[\"St\"] = \"\"\n",
    "\n",
    "for n in range(len(finalListPlayer[\"Player\"])):\n",
    "    for m in range(len(listPlayerDetail[\"Player\"])):\n",
    "        if ((finalListPlayer.loc[n, \"Player\"] == listPlayerDetail.loc[m, \"Player\"]) and (finalListPlayer.loc[n, \"Position\"] == listPlayerDetail.loc[m, \"Position\"]) and (finalListPlayer.loc[n, \"Age\"] == listPlayerDetail.loc[m, \"Age\"]) and (finalListPlayer.loc[n, \"Team\"] == listPlayerDetail.loc[m, \"Team\"])):\n",
    "            finalListPlayer.loc[n, \"MP\"] = listPlayerDetail.loc[m, \"MP\"]\n",
    "            finalListPlayer.loc[n, \"Gls\"] = listPlayerDetail.loc[m, \"Gls\"]\n",
    "            finalListPlayer.loc[n, \"Asts\"] = listPlayerDetail.loc[m, \"Asts\"]\n",
    "            finalListPlayer.loc[n, \"YC\"] = listPlayerDetail.loc[m, \"YC\"]\n",
    "            finalListPlayer.loc[n, \"Second YC\"] = listPlayerDetail.loc[m, \"Second YC\"]\n",
    "            finalListPlayer.loc[n, \"RC\"] = listPlayerDetail.loc[m, \"RC\"]\n",
    "            finalListPlayer.loc[n, \"Subs On\"] = listPlayerDetail.loc[m, \"Subs On\"]\n",
    "            finalListPlayer.loc[n, \"Min\"] = listPlayerDetail.loc[m, \"Min\"]"
   ]
  },
  {
   "cell_type": "code",
   "execution_count": null,
   "metadata": {},
   "outputs": [],
   "source": [
    "uniqueValues = finalListPlayer[\"MP\"].unique()\n",
    "uniqueValues"
   ]
  },
  {
   "cell_type": "code",
   "execution_count": null,
   "metadata": {},
   "outputs": [],
   "source": [
    "finalListPlayerFoot = finalListPlayer[finalListPlayer[\"Foot\"].str.contains(\"\\xa0\")]\n",
    "finalListPlayer.drop(\n",
    "    finalListPlayer[finalListPlayer[\"Foot\"].str.contains(\"\\xa0\")].index,\n",
    "    inplace=True,\n",
    ")\n",
    "finalListPlayerFoot[\"Foot\"] = finalListPlayerFoot[\"Foot\"].str[:-10]\n",
    "\n",
    "finalListPlayer = pd.concat([finalListPlayer, finalListPlayerFoot], axis=0)"
   ]
  },
  {
   "cell_type": "code",
   "execution_count": null,
   "metadata": {},
   "outputs": [],
   "source": [
    "finalListPlayer[\"MP\"] = finalListPlayer[\"MP\"].replace(\"Not used during this season\", 0)\n",
    "finalListPlayer[\"MP\"] = finalListPlayer[\"MP\"].replace(\"Not in squad during this season\", 0)\n",
    "finalListPlayer[\"MP\"] = finalListPlayer[\"MP\"].replace(\"\", 0)\n",
    "finalListPlayer[\"Gls\"] = finalListPlayer[\"Gls\"].replace(\"-\", 0)\n",
    "finalListPlayer[\"Gls\"] = finalListPlayer[\"Gls\"].replace(\"\", 0)\n",
    "finalListPlayer[\"Asts\"] = finalListPlayer[\"Asts\"].replace(\"-\", 0)\n",
    "finalListPlayer[\"Asts\"] = finalListPlayer[\"Asts\"].replace(\"\", 0)\n",
    "finalListPlayer[\"YC\"] = finalListPlayer[\"YC\"].replace(\"-\", 0)\n",
    "finalListPlayer[\"YC\"] = finalListPlayer[\"YC\"].replace(\"\", 0)\n",
    "finalListPlayer[\"Second YC\"] = finalListPlayer[\"Second YC\"].replace(\"-\", 0)\n",
    "finalListPlayer[\"Second YC\"] = finalListPlayer[\"Second YC\"].replace(\"\", 0)\n",
    "finalListPlayer[\"RC\"] = finalListPlayer[\"RC\"].replace(\"-\", 0)\n",
    "finalListPlayer[\"RC\"] = finalListPlayer[\"RC\"].replace(\"\", 0)\n",
    "finalListPlayer[\"Subs On\"] = finalListPlayer[\"Subs On\"].replace(\"-\", 0)\n",
    "finalListPlayer[\"Subs On\"] = finalListPlayer[\"Subs On\"].replace(\"\", 0)\n",
    "finalListPlayer[\"Min\"] = finalListPlayer[\"Min\"].replace(\"-\", 0)\n",
    "finalListPlayer[\"Min\"] = finalListPlayer[\"Min\"].replace(\"\", 0)\n",
    "finalListPlayer[\"St\"] = finalListPlayer[\"St\"].replace(\"-\", 0)\n",
    "finalListPlayer[\"St\"] = finalListPlayer[\"St\"].replace(\"\", 0)\n",
    "finalListPlayer[\"Position\"] = finalListPlayer[\"Position\"].replace(\"\", \"-\")\n",
    "finalListPlayer[\"Age\"] = finalListPlayer[\"Age\"].replace(\"\", \"-\")\n",
    "finalListPlayer[\"Height\"] = finalListPlayer[\"Height\"].replace(\"\", \"-\")\n",
    "finalListPlayer[\"Foot\"] = finalListPlayer[\"Foot\"].replace(\"\", \"-\")\n",
    "finalListPlayer[\"Nation\"] = finalListPlayer[\"Nation\"].replace(\"\", \"-\")"
   ]
  },
  {
   "cell_type": "code",
   "execution_count": 29,
   "metadata": {},
   "outputs": [],
   "source": [
    "finalListPlayer[\"MP\"] = finalListPlayer[\"MP\"].astype(int)\n",
    "finalListPlayer[\"Subs On\"] = finalListPlayer[\"Subs On\"].astype(int)\n",
    "\n",
    "finalListPlayer[\"St\"] = finalListPlayer[\"MP\"].sub(finalListPlayer[\"Subs On\"], fill_value=0)"
   ]
  },
  {
   "cell_type": "code",
   "execution_count": null,
   "metadata": {},
   "outputs": [],
   "source": [
    "uniquePositions = finalListPlayer[\"Position\"].unique()\n",
    "uniquePositions"
   ]
  },
  {
   "cell_type": "code",
   "execution_count": 31,
   "metadata": {},
   "outputs": [],
   "source": [
    "finalListPlayer[\"Position\"] = finalListPlayer[\"Position\"].replace(\"Goalkeeper\", \"GK\")\n",
    "finalListPlayer[\"Position\"] = finalListPlayer[\"Position\"].replace(\n",
    "    [\"Centre-Back\", \"Left-Back\", \"Right-Back\"], \"DF\"\n",
    ")\n",
    "finalListPlayer[\"Position\"] = finalListPlayer[\"Position\"].replace(\n",
    "    [\n",
    "        \"Defensive Midfield\",\n",
    "        \"Central Midfield\",\n",
    "        \"Right Midfield\",\n",
    "        \"Left Midfield\",\n",
    "        \"Attacking Midfield\",\n",
    "    ],\n",
    "    \"MF\",\n",
    ")\n",
    "finalListPlayer[\"Position\"] = finalListPlayer[\"Position\"].replace(\n",
    "    [\"Centre-Forward\", \"Left Winger\", \"Right Winger\", \"Second Striker\"], \"FW\"\n",
    ")"
   ]
  },
  {
   "cell_type": "code",
   "execution_count": 32,
   "metadata": {},
   "outputs": [],
   "source": [
    "finalListPlayer[\"Mini Team Crest\"] = \"\"\n",
    "finalListPlayer[\"Big Team Crest\"] = \"\"\n",
    "finalListPlayer[\"League\"] = \"\"\n",
    "finalListPlayer[\"Team Link\"] = \"\"\n",
    "finalListPlayer[\"Team Link 2\"] = \"\"\n",
    "\n",
    "for p in range(len(finalListPlayer[\"Team\"])):\n",
    "    for r in range(len(finalListClub[\"Team\"])):\n",
    "        if finalListPlayer.loc[p, \"Team\"] == finalListClub.loc[r, \"Team\"]:\n",
    "            finalListPlayer.loc[p, \"Mini Team Crest\"] = finalListClub.loc[r, \"Mini Team Crest\"]\n",
    "            finalListPlayer.loc[p, \"Big Team Crest\"] = finalListClub.loc[r, \"Big Team Crest\"]\n",
    "            finalListPlayer.loc[p, \"League\"] = finalListClub.loc[r, \"League\"]\n",
    "            finalListPlayer.loc[p, \"Team Link\"] = finalListClub.loc[r, \"Team Link\"]\n",
    "            finalListPlayer.loc[p, \"Team Link 2\"] = finalListClub.loc[r, \"Team Link 2\"]"
   ]
  },
  {
   "cell_type": "code",
   "execution_count": 33,
   "metadata": {},
   "outputs": [],
   "source": [
    "finalListPlayerMin = finalListPlayer[finalListPlayer[\"Min\"] == 0]\n",
    "finalListPlayer.drop(\n",
    "    finalListPlayer[finalListPlayer[\"Min\"] == 0].index,\n",
    "    inplace=True,\n",
    ")\n",
    "\n",
    "finalListPlayer[\"Min\"] = finalListPlayer[\"Min\"].str.replace(\".\", \"\")\n",
    "finalListPlayer[\"Min\"] = finalListPlayer[\"Min\"].str[:-1]\n",
    "finalListPlayer[\"Min\"] = finalListPlayer[\"Min\"].astype(int)"
   ]
  },
  {
   "cell_type": "code",
   "execution_count": 34,
   "metadata": {},
   "outputs": [],
   "source": [
    "finalListPlayer = pd.concat([finalListPlayer, finalListPlayerMin], axis=0)"
   ]
  },
  {
   "cell_type": "code",
   "execution_count": 35,
   "metadata": {},
   "outputs": [],
   "source": [
    "finalListPlayer = finalListPlayer.sort_values(by=\"Team\")\n",
    "finalListPlayer = finalListPlayer.reset_index(drop=True)"
   ]
  },
  {
   "cell_type": "code",
   "execution_count": 36,
   "metadata": {},
   "outputs": [],
   "source": [
    "finalListPlayer.insert(10, \"St\", finalListPlayer.pop(\"St\"))\n",
    "finalListPlayer.insert(7, \"League\", finalListPlayer.pop(\"League\"))"
   ]
  },
  {
   "cell_type": "code",
   "execution_count": 37,
   "metadata": {},
   "outputs": [],
   "source": [
    "finalListClub.insert(10, \"Pts/MP\", finalListClub.pop(\"Pts/MP\"))\n",
    "finalListClub.insert(12, \"Team Link\", finalListClub.pop(\"Team Link\"))\n",
    "finalListClub.insert(13, \"Mini Team Crest\", finalListClub.pop(\"Mini Team Crest\"))\n",
    "finalListClub.insert(13, \"Big Team Crest\", finalListClub.pop(\"Big Team Crest\"))\n",
    "\n",
    "finalListClub = finalListClub.sort_values(by=\"Pts/MP\", ascending=False)\n",
    "finalListClub = finalListClub.reset_index(drop=True)"
   ]
  },
  {
   "cell_type": "code",
   "execution_count": 38,
   "metadata": {},
   "outputs": [],
   "source": [
    "response = req.get(\n",
    "    \"https://flagpedia.net/index\",\n",
    "    headers=headers,\n",
    ")\n",
    "soup = bs(response.content, \"html.parser\")\n",
    "table = soup.find(\"ul\", class_=\"flag-grid\")\n",
    "flagList = pd.DataFrame(\n",
    "    {\n",
    "        \"Flag\": [(i.text) for i in table.select(\"li a\")],\n",
    "        \"Flag Link\": [(\"https://flagpedia.net\" + i[\"href\"]) for i in table.select(\"li a\")],\n",
    "    }\n",
    ")"
   ]
  },
  {
   "cell_type": "code",
   "execution_count": 39,
   "metadata": {},
   "outputs": [],
   "source": [
    "flagList[\"Flag\"] = flagList[\"Flag\"].str.replace(\"\\n\\n\", \"\")\n",
    "flagList[\"Flag\"] = flagList[\"Flag\"].str.replace(\"\\n\", \"\")"
   ]
  },
  {
   "cell_type": "code",
   "execution_count": 40,
   "metadata": {},
   "outputs": [],
   "source": [
    "flagListCode = pd.DataFrame()\n",
    "for nationCode in flagList[\"Flag Link\"]:\n",
    "    responseSecond = req.get(\n",
    "        nationCode,\n",
    "        headers=headers,\n",
    "    )\n",
    "    soupSecond = bs(responseSecond.content, \"html.parser\")\n",
    "    tableSecond = soupSecond.find(\"table\", class_=\"table-dl\")\n",
    "    flagCode = pd.DataFrame(\n",
    "        {\n",
    "            \"Flag Code\": [(i.text) for i in tableSecond.select(\"tbody tr:nth-of-type(2) td\")],\n",
    "        }\n",
    "    )\n",
    "\n",
    "    flagListCode = pd.concat([flagListCode, flagCode], axis=0)"
   ]
  },
  {
   "cell_type": "code",
   "execution_count": 41,
   "metadata": {},
   "outputs": [],
   "source": [
    "flagListCode = flagListCode.reset_index(drop=True)\n",
    "flagListCodeOther = flagListCode[\"Flag Code\"].str.split(\",\", expand=True)"
   ]
  },
  {
   "cell_type": "code",
   "execution_count": 42,
   "metadata": {},
   "outputs": [],
   "source": [
    "flagListCode = pd.concat([flagListCode, flagListCodeOther], axis=1)"
   ]
  },
  {
   "cell_type": "code",
   "execution_count": 43,
   "metadata": {},
   "outputs": [],
   "source": [
    "flagListCode.rename(columns={0: \"Flag Code 1\", 1: \"Flag Code 2\"}, inplace=True)\n",
    "flagListCode[\"Flag Code 2\"] = flagListCode[\"Flag Code 2\"].str[:-13]"
   ]
  },
  {
   "cell_type": "code",
   "execution_count": 44,
   "metadata": {},
   "outputs": [],
   "source": [
    "flagList = pd.concat([flagList, flagListCode], axis=1)"
   ]
  },
  {
   "cell_type": "code",
   "execution_count": null,
   "metadata": {},
   "outputs": [],
   "source": [
    "flagListFiltered = flagList[flagList[\"Flag Code 1\"].str.contains(\"(ISO 3166-2:GB)\")]\n",
    "flagList.drop(\n",
    "    flagList[flagList[\"Flag Code 1\"].str.contains(\"(ISO 3166-2:GB)\")].index,\n",
    "    inplace=True,\n",
    ")"
   ]
  },
  {
   "cell_type": "code",
   "execution_count": null,
   "metadata": {},
   "outputs": [],
   "source": [
    "flagListFiltered[\"Flag Code 1\"] = flagListFiltered[\"Flag Code 1\"].str[:-16]\n",
    "flagListFiltered"
   ]
  },
  {
   "cell_type": "code",
   "execution_count": 47,
   "metadata": {},
   "outputs": [],
   "source": [
    "flagList = pd.concat([flagList, flagListFiltered], axis=0)\n",
    "flagList = flagList.reset_index(drop=True)"
   ]
  },
  {
   "cell_type": "code",
   "execution_count": null,
   "metadata": {},
   "outputs": [],
   "source": [
    "nationCodes = [\n",
    "    \"GB-ENG\",\n",
    "    \"ES\",\n",
    "    \"FR\",\n",
    "    \"DE\",\n",
    "    \"IT\",\n",
    "]\n",
    "\n",
    "for l in range(len(finalListClub[\"League\"])):\n",
    "    if finalListClub.loc[l, \"League\"] == \"EPL\":\n",
    "        finalListClub.loc[l, \"Nation Flag Code\"] = \"GB-ENG\"\n",
    "    elif finalListClub.loc[l, \"League\"] == \"La Liga\":\n",
    "        finalListClub.loc[l, \"Nation Flag Code\"] = \"ES\"\n",
    "    elif finalListClub.loc[l, \"League\"] == \"Ligue 1\":\n",
    "        finalListClub.loc[l, \"Nation Flag Code\"] = \"FR\"\n",
    "    elif finalListClub.loc[l, \"League\"] == \"Bundesliga\":\n",
    "        finalListClub.loc[l, \"Nation Flag Code\"] = \"DE\"\n",
    "    elif finalListClub.loc[l, \"League\"] == \"Serie A\":\n",
    "        finalListClub.loc[l, \"Nation Flag Code\"] = \"IT\"\n",
    "\n",
    "finalListClub"
   ]
  },
  {
   "cell_type": "code",
   "execution_count": 49,
   "metadata": {},
   "outputs": [],
   "source": [
    "for n in range(len(finalListPlayer[\"Nation\"])):\n",
    "    for f in range(len(flagList[\"Flag\"])):\n",
    "        if finalListPlayer.loc[n, \"Nation\"] == flagList.loc[f, \"Flag\"]:\n",
    "            finalListPlayer.loc[n, \"Flag Code\"] = flagList.loc[f, \"Flag Code 1\"]"
   ]
  },
  {
   "cell_type": "code",
   "execution_count": null,
   "metadata": {},
   "outputs": [],
   "source": [
    "finalListPlayerFiltered = finalListPlayer[finalListPlayer[\"Flag Code\"].isna()]\n",
    "finalListPlayer.drop(\n",
    "    finalListPlayer[finalListPlayer[\"Flag Code\"].isna()].index,\n",
    "    inplace=True,\n",
    ")\n",
    "finalListPlayerFiltered[[\"Player\", \"Nation\", \"Flag Code\"]]"
   ]
  },
  {
   "cell_type": "code",
   "execution_count": null,
   "metadata": {},
   "outputs": [],
   "source": [
    "uniqueNations = finalListPlayerFiltered[\"Nation\"].unique()\n",
    "uniqueNations"
   ]
  },
  {
   "cell_type": "code",
   "execution_count": null,
   "metadata": {},
   "outputs": [],
   "source": [
    "finalListPlayerFilteredCongo = finalListPlayerFiltered[finalListPlayerFiltered[\"Nation\"] == \"Congo\"]\n",
    "finalListPlayerFilteredCongo"
   ]
  },
  {
   "cell_type": "code",
   "execution_count": null,
   "metadata": {},
   "outputs": [],
   "source": [
    "finalListPlayerFiltered[\"Nation\"] = finalListPlayerFiltered[\"Nation\"].str.replace(\"Korea, South\", \"South Korea\")\n",
    "finalListPlayerFiltered[\"Nation\"] = finalListPlayerFiltered[\"Nation\"].str.replace(\"Cote d'Ivoire\", \"Côte d'Ivoire\")\n",
    "finalListPlayerFiltered[\"Nation\"] = finalListPlayerFiltered[\"Nation\"].str.replace(\"Bosnia-Herzegovina\", \"Bosnia and Herzegovina\")\n",
    "finalListPlayerFiltered[\"Nation\"] = finalListPlayerFiltered[\"Nation\"].str.replace(\"Türkiye\", \"Turkey\")\n",
    "finalListPlayerFiltered[\"Nation\"] = finalListPlayerFiltered[\"Nation\"].str.replace(\"Congo\", \"Republic of the Congo\")\n",
    "finalListPlayerFiltered[\"Nation\"] = finalListPlayerFiltered[\"Nation\"].str.replace(\"Czech Republic\", \"Czechia\")\n",
    "finalListPlayerFiltered[\"Nation\"] = finalListPlayerFiltered[\"Nation\"].str.replace(\"The Gambia\", \"Gambia\")"
   ]
  },
  {
   "cell_type": "code",
   "execution_count": null,
   "metadata": {},
   "outputs": [],
   "source": [
    "finalListPlayerFiltered = finalListPlayerFiltered.reset_index(drop=True)\n",
    "\n",
    "for n in range(len(finalListPlayerFiltered[\"Nation\"])):\n",
    "    for f in range(len(flagList[\"Flag\"])):\n",
    "        if finalListPlayerFiltered.loc[n, \"Nation\"] == flagList.loc[f, \"Flag\"]:\n",
    "            finalListPlayerFiltered.loc[n, \"Flag Code\"] = flagList.loc[f, \"Flag Code 1\"]\n",
    "\n",
    "finalListPlayerFiltered"
   ]
  },
  {
   "cell_type": "code",
   "execution_count": null,
   "metadata": {},
   "outputs": [],
   "source": [
    "finalListPlayer = pd.concat([finalListPlayer, finalListPlayerFiltered], axis=0)\n",
    "\n",
    "finalListPlayer = finalListPlayer.sort_values(by=\"Team\")\n",
    "finalListPlayer = finalListPlayer.reset_index(drop=True)\n",
    "\n",
    "finalListPlayer"
   ]
  },
  {
   "cell_type": "code",
   "execution_count": null,
   "metadata": {},
   "outputs": [],
   "source": [
    "nanCountsPlayer = finalListPlayer.isna().sum()\n",
    "print(nanCountsPlayer)"
   ]
  },
  {
   "cell_type": "code",
   "execution_count": null,
   "metadata": {},
   "outputs": [],
   "source": [
    "nanCountsClub = finalListClub.isna().sum()\n",
    "print(nanCountsClub)"
   ]
  },
  {
   "cell_type": "code",
   "execution_count": 58,
   "metadata": {},
   "outputs": [],
   "source": [
    "finalListClub[\"Id\"] = range(1, len(finalListClub) + 1)\n",
    "finalListClub.insert(0, \"Id\", finalListClub.pop(\"Id\"))\n",
    "\n",
    "finalListPlayer[\"Id\"] = range(1, len(finalListPlayer) + 1)\n",
    "finalListPlayer.insert(0, \"Id\", finalListPlayer.pop(\"Id\"))"
   ]
  },
  {
   "cell_type": "code",
   "execution_count": null,
   "metadata": {},
   "outputs": [],
   "source": [
    "import json\n",
    "\n",
    "dataClub = finalListClub.to_dict(orient='records')\n",
    "dataClubList = []\n",
    "dataClubList.append(dataClub)\n",
    "dataPlayer = finalListPlayer.to_dict(orient='records')\n",
    "dataPlayerList = []\n",
    "dataPlayerList.append(dataPlayer)\n",
    "data = dataClubList + dataPlayerList\n",
    "\n",
    "with open('data.json', 'w') as f:\n",
    "    json.dump(data, f)"
   ]
  }
 ],
 "metadata": {
  "kernelspec": {
   "display_name": "venv",
   "language": "python",
   "name": "python3"
  },
  "language_info": {
   "codemirror_mode": {
    "name": "ipython",
    "version": 3
   },
   "file_extension": ".py",
   "mimetype": "text/x-python",
   "name": "python",
   "nbconvert_exporter": "python",
   "pygments_lexer": "ipython3",
   "version": "3.13.0"
  }
 },
 "nbformat": 4,
 "nbformat_minor": 2
}
