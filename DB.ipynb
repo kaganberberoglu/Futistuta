{
 "cells": [
  {
   "cell_type": "code",
   "execution_count": 26,
   "metadata": {},
   "outputs": [],
   "source": [
    "import requests as req\n",
    "import pandas as pd\n",
    "from bs4 import BeautifulSoup as bs\n",
    "\n",
    "pd.set_option(\"display.max_columns\", None)\n",
    "pd.set_option(\"display.max_rows\", None)\n",
    "headers = {\n",
    "    \"User-Agent\": \"Mozilla/5.0 (Windows NT 10.0; Win64; x64) AppleWebKit/537.36 (KHTML, like Gecko) Chrome/116.0.0.0 Safari/537.36\"\n",
    "}"
   ]
  },
  {
   "cell_type": "code",
   "execution_count": null,
   "metadata": {},
   "outputs": [],
   "source": [
    "leagueLinks = [\n",
    "    \"https://www.transfermarkt.com/premier-league/startseite/wettbewerb/GB1\",\n",
    "    \"https://www.transfermarkt.com/laliga/startseite/wettbewerb/ES1\",\n",
    "    \"https://www.transfermarkt.com/serie-a/startseite/wettbewerb/IT1\",\n",
    "    \"https://www.transfermarkt.com/bundesliga/startseite/wettbewerb/L1\",\n",
    "    \"https://www.transfermarkt.com/ligue-1/startseite/wettbewerb/FR1\",\n",
    "]\n",
    "\n",
    "listSquad = pd.DataFrame()\n",
    "firstPartOfLink = \"https://www.transfermarkt.com\"\n",
    "for link in leagueLinks:\n",
    "    request = req.get(link, headers=headers)\n",
    "    soup = bs(request.content, \"html.parser\")\n",
    "    table = soup.select_one('table:contains(\"Club\")')\n",
    "\n",
    "    innerListSquad = pd.DataFrame(\n",
    "        {\n",
    "            \"Squad\": [\n",
    "                (i[\"title\"])\n",
    "                for i in table.select(\"tbody td:nth-of-type(1) a:nth-of-type(1) img\")\n",
    "            ],\n",
    "            \"Squad Link\": [\n",
    "                (firstPartOfLink + i[\"href\"])\n",
    "                for i in table.select(\"tbody td:nth-of-type(2) a:nth-of-type(1)\")\n",
    "            ],\n",
    "            \"Mini Club Crest\": [\n",
    "                (i[\"src\"])\n",
    "                for i in table.select(\"tbody td:nth-of-type(1) a:nth-of-type(1) img\")\n",
    "            ],\n",
    "        }\n",
    "    )\n",
    "\n",
    "    listSquad = pd.concat([listSquad, innerListSquad], axis=0)\n",
    "\n",
    "def clubCrestBig(x):\n",
    "    return x[\"Mini Club Crest\"].replace(\"tiny\", \"head\")\n",
    "\n",
    "listSquad[\"Big Club Crest\"] = listSquad.apply(clubCrestBig, axis=1)\n",
    "listSquad"
   ]
  },
  {
   "cell_type": "code",
   "execution_count": 28,
   "metadata": {},
   "outputs": [],
   "source": [
    "df0 = listSquad.sort_values(by=\"Squad\", ascending=True)\n",
    "df0 = df0.reset_index(drop=True)"
   ]
  },
  {
   "cell_type": "code",
   "execution_count": null,
   "metadata": {},
   "outputs": [],
   "source": [
    "df0"
   ]
  },
  {
   "cell_type": "code",
   "execution_count": null,
   "metadata": {},
   "outputs": [],
   "source": [
    "leagueTables = [\n",
    "    \"https://www.transfermarkt.com/premier-league/tabelle/wettbewerb/GB1/saison_id/2024\",\n",
    "    \"https://www.transfermarkt.com/laliga/tabelle/wettbewerb/ES1/saison_id/2024\",\n",
    "    \"https://www.transfermarkt.com/ligue-1/tabelle/wettbewerb/FR1/saison_id/2024\",\n",
    "    \"https://www.transfermarkt.com/bundesliga/tabelle/wettbewerb/L1/saison_id/2024\",\n",
    "    \"https://www.transfermarkt.com/serie-a/tabelle/wettbewerb/IT1/saison_id/2024\",\n",
    "]\n",
    "\n",
    "df1 = pd.DataFrame()\n",
    "for link in leagueTables:\n",
    "    re = req.get(link, headers=headers)\n",
    "    so = bs(re.content, \"html.parser\")\n",
    "    tb = so.select_one('table:contains(\"Goals\")')\n",
    "    df2 = pd.DataFrame(\n",
    "        {\n",
    "            \"Team\": [(i[\"title\"]) for i in tb.select(\"tbody td:nth-of-type(2) a img\")],\n",
    "            \"MP\": [(i.text) for i in tb.select(\"tbody td:nth-of-type(4)\")],\n",
    "            \"W\": [(i.text) for i in tb.select(\"tbody td:nth-of-type(5)\")],\n",
    "            \"D\": [(i.text) for i in tb.select(\"tbody td:nth-of-type(6)\")],\n",
    "            \"L\": [(i.text) for i in tb.select(\"tbody td:nth-of-type(7)\")],\n",
    "            \"Goals\": [(i.text) for i in tb.select(\"tbody td:nth-of-type(8)\")],\n",
    "            \"+/-\": [(i.text) for i in tb.select(\"tbody td:nth-of-type(9)\")],\n",
    "            \"Pts\": [(i.text) for i in tb.select(\"tbody td:nth-of-type(10)\")],\n",
    "        }\n",
    "    )\n",
    "\n",
    "    df2[\"Pts/MP\"] = df2[\"Pts\"].astype(int) / df2[\"MP\"].astype(int)\n",
    "    df2[\"Pts/MP\"] = df2[\"Pts/MP\"].round(2)\n",
    "    df1 = pd.concat([df1, df2], axis=0)\n",
    "    df3 = df1.sort_values(by=\"Team\", ascending=True)\n",
    "    df4 = df3.reset_index(drop=True)\n",
    "df4"
   ]
  },
  {
   "cell_type": "code",
   "execution_count": null,
   "metadata": {},
   "outputs": [],
   "source": [
    "df5 = pd.concat([df4, df0], axis=1)\n",
    "df5"
   ]
  },
  {
   "cell_type": "code",
   "execution_count": 34,
   "metadata": {},
   "outputs": [],
   "source": [
    "df5 = df5.sort_values(by=\"Pts/MP\", ascending=False)\n",
    "df5[\"Rk\"] = range(1, len(df5) + 1)\n",
    "df5.insert(0, \"Rk\", df5.pop(\"Rk\"))"
   ]
  },
  {
   "cell_type": "code",
   "execution_count": null,
   "metadata": {},
   "outputs": [],
   "source": [
    "df5.set_index(\"Rk\")"
   ]
  },
  {
   "cell_type": "code",
   "execution_count": 36,
   "metadata": {},
   "outputs": [],
   "source": [
    "df5[\"TeamEqualToSquad\"] = df5[\"Team\"] == df5[\"Squad\"]\n",
    "\n",
    "if df5[\"TeamEqualToSquad\"].all() == True:\n",
    "    df = df5.drop(columns=[\"TeamEqualToSquad\", \"Squad\"], axis=1)"
   ]
  },
  {
   "cell_type": "code",
   "execution_count": null,
   "metadata": {},
   "outputs": [],
   "source": [
    "df"
   ]
  },
  {
   "cell_type": "code",
   "execution_count": null,
   "metadata": {},
   "outputs": [],
   "source": [
    "listPlayer = pd.DataFrame()\n",
    "for l in listSquad[\"Squad Link\"]:\n",
    "    r = req.get(\n",
    "        l,\n",
    "        headers=headers,\n",
    "    )\n",
    "    s = bs(r.content, \"html.parser\")\n",
    "    t = s.select_one('table:contains(\"Market value\")')\n",
    "\n",
    "    innerListPlayer = pd.DataFrame(\n",
    "        {\n",
    "            \"Player\": [(i[\"title\"]) for i in t.select(\"tbody td:nth-of-type(1) img\")],\n",
    "            \"Position\": [\n",
    "                (i.text)\n",
    "                for i in t.select(\"tbody td:nth-of-type(2) tr td:nth-of-type(1)\")\n",
    "            ][1::2],\n",
    "            \"Age\": [(i.text) for i in t.select(\"tbody td:nth-of-type(3)\")],\n",
    "            \"Market Value\": [(i.text) for i in t.select(\"tbody .rechts.hauptlink\")],\n",
    "        }\n",
    "    )\n",
    "\n",
    "    clubs = s.find_all(class_=\"data-header__headline-wrapper data-header__headline-wrapper--oswald\")\n",
    "    clubName = [club.get_text(strip=True) for club in clubs]\n",
    "\n",
    "    def addClubName(c):\n",
    "        c = clubName[0]\n",
    "        return c\n",
    "    \n",
    "    innerListPlayer[\"Club\"] = innerListPlayer.apply(addClubName, axis=1)\n",
    "\n",
    "    listPlayer = pd.concat([listPlayer, innerListPlayer], axis=0)\n",
    "\n",
    "listPlayer[\"Age\"] = listPlayer[\"Age\"].str[-3:-1]\n",
    "listPlayer[\"Position\"] = listPlayer[\"Position\"].replace(\"\\n\",\"\", regex=True)\n",
    "listPlayer[\"Position\"] = listPlayer[\"Position\"].str.strip()\n",
    "listPlayer.index = range(0, len(listPlayer))\n",
    "\n",
    "listPlayer"
   ]
  },
  {
   "cell_type": "code",
   "execution_count": null,
   "metadata": {},
   "outputs": [],
   "source": [
    "marketValueOne = listPlayer[listPlayer[\"Market Value\"].str.contains(\"k\")]\n",
    "listPlayer.drop(\n",
    "    listPlayer[listPlayer[\"Market Value\"].str.contains(\"k\")].index,\n",
    "    inplace=True,\n",
    ")\n",
    "\n",
    "marketValueSecond = marketValueOne[marketValueOne[\"Market Value\"].str.contains(\"\\xa0\\xa0\")]\n",
    "marketValueOne.drop(\n",
    "    marketValueOne[marketValueOne[\"Market Value\"].str.contains(\"\\xa0\\xa0\")].index,\n",
    "    inplace=True,\n",
    ")"
   ]
  },
  {
   "cell_type": "code",
   "execution_count": null,
   "metadata": {},
   "outputs": [],
   "source": [
    "marketValueSeventh = pd.DataFrame()\n",
    "marketValueSeventh[\"Market Value\"] = marketValueOne[\"Market Value\"].str[1:-1]\n",
    "marketValueSeventh[\"Market Value\"] = pd.to_numeric(marketValueSeventh[\"Market Value\"])\n",
    "\n",
    "marketValueSeventh"
   ]
  },
  {
   "cell_type": "code",
   "execution_count": null,
   "metadata": {},
   "outputs": [],
   "source": [
    "valueList = []\n",
    "for value in marketValueSeventh[\"Market Value\"]:\n",
    "    if value < 100 and value > 0:\n",
    "        value = 0.1\n",
    "        valueList.append(value)\n",
    "    else:\n",
    "        value = round((value / 1000), 1)\n",
    "        valueList.append(value)\n",
    "\n",
    "valueList"
   ]
  },
  {
   "cell_type": "code",
   "execution_count": null,
   "metadata": {},
   "outputs": [],
   "source": [
    "marketValueSeventh[\"Market Value\"] = valueList\n",
    "marketValueSeventh"
   ]
  },
  {
   "cell_type": "code",
   "execution_count": null,
   "metadata": {},
   "outputs": [],
   "source": [
    "marketValueEighth = pd.DataFrame()\n",
    "marketValueEighth[\"Market Value\"] = marketValueSecond[\"Market Value\"].str[1:-3]\n",
    "marketValueEighth[\"Market Value\"] = pd.to_numeric(marketValueEighth[\"Market Value\"])\n",
    "\n",
    "marketValueEighth"
   ]
  },
  {
   "cell_type": "code",
   "execution_count": null,
   "metadata": {},
   "outputs": [],
   "source": [
    "otherValueList = []\n",
    "for v in marketValueEighth[\"Market Value\"]:\n",
    "    if v < 100 and v > 0:\n",
    "        v = 0.1\n",
    "        otherValueList.append(v)\n",
    "    else:\n",
    "        v = round((v / 1000), 1)\n",
    "        otherValueList.append(v)\n",
    "\n",
    "otherValueList"
   ]
  },
  {
   "cell_type": "code",
   "execution_count": null,
   "metadata": {},
   "outputs": [],
   "source": [
    "marketValueEighth[\"Market Value\"] = otherValueList\n",
    "marketValueEighth"
   ]
  },
  {
   "cell_type": "code",
   "execution_count": null,
   "metadata": {},
   "outputs": [],
   "source": [
    "marketValueOne.drop(columns=[\"Market Value\"], inplace=True)\n",
    "marketValueSecond.drop(columns=[\"Market Value\"], inplace=True)"
   ]
  },
  {
   "cell_type": "code",
   "execution_count": 13,
   "metadata": {},
   "outputs": [],
   "source": [
    "marketValueThird = pd.concat([marketValueOne, marketValueSeventh], axis=1)\n",
    "marketValueNinth = pd.concat([marketValueSecond, marketValueEighth], axis=1)\n",
    "\n",
    "marketValueTenth = pd.concat([marketValueThird, marketValueNinth], axis=0)"
   ]
  },
  {
   "cell_type": "code",
   "execution_count": null,
   "metadata": {},
   "outputs": [],
   "source": [
    "marketValueTenth"
   ]
  },
  {
   "cell_type": "code",
   "execution_count": null,
   "metadata": {},
   "outputs": [],
   "source": [
    "marketValueFourth = listPlayer[listPlayer[\"Market Value\"].str.contains(\"m\")]\n",
    "listPlayer.drop(\n",
    "    listPlayer[listPlayer[\"Market Value\"].str.contains(\"m\")].index,\n",
    "    inplace=True,\n",
    ")\n",
    "\n",
    "marketValueFifth = marketValueFourth[marketValueFourth[\"Market Value\"].str.contains(\"\\xa0\\xa0\")]\n",
    "marketValueFourth.drop(\n",
    "    marketValueFourth[marketValueFourth[\"Market Value\"].str.contains(\"\\xa0\\xa0\")].index,\n",
    "    inplace=True,\n",
    ")"
   ]
  },
  {
   "cell_type": "code",
   "execution_count": 16,
   "metadata": {},
   "outputs": [],
   "source": [
    "listPlayer[\"Market Value\"] = 0.0\n",
    "listPlayer.insert(4, \"Market Value\", listPlayer.pop(\"Market Value\"))"
   ]
  },
  {
   "cell_type": "code",
   "execution_count": null,
   "metadata": {},
   "outputs": [],
   "source": [
    "listPlayer"
   ]
  },
  {
   "cell_type": "code",
   "execution_count": null,
   "metadata": {},
   "outputs": [],
   "source": [
    "marketValueSixth = pd.DataFrame()\n",
    "marketValueSixth[\"Market Value\"] = marketValueFourth[\"Market Value\"].str[1:-1]\n",
    "marketValueSixth[\"Market Value\"] = pd.to_numeric(marketValueSixth[\"Market Value\"])\n",
    "\n",
    "marketValueSixth"
   ]
  },
  {
   "cell_type": "code",
   "execution_count": null,
   "metadata": {},
   "outputs": [],
   "source": [
    "marketValueEleventh = pd.DataFrame()\n",
    "marketValueEleventh[\"Market Value\"] = marketValueFifth[\"Market Value\"].str[1:-3]\n",
    "marketValueEleventh[\"Market Value\"] = pd.to_numeric(marketValueEleventh[\"Market Value\"])\n",
    "\n",
    "marketValueEleventh"
   ]
  },
  {
   "cell_type": "code",
   "execution_count": null,
   "metadata": {},
   "outputs": [],
   "source": [
    "marketValueFourth.drop(columns=[\"Market Value\"], inplace=True)\n",
    "marketValueFifth.drop(columns=[\"Market Value\"], inplace=True)"
   ]
  },
  {
   "cell_type": "code",
   "execution_count": 21,
   "metadata": {},
   "outputs": [],
   "source": [
    "marketValueTwelfth = pd.concat([marketValueFourth, marketValueSixth], axis=1)\n",
    "marketValueThirteenth = pd.concat([marketValueFifth, marketValueEleventh], axis=1)\n",
    "\n",
    "marketValueFourteenth = pd.concat([marketValueTwelfth, marketValueThirteenth], axis=0)"
   ]
  },
  {
   "cell_type": "code",
   "execution_count": null,
   "metadata": {},
   "outputs": [],
   "source": [
    "marketValueFourteenth"
   ]
  },
  {
   "cell_type": "code",
   "execution_count": null,
   "metadata": {},
   "outputs": [],
   "source": [
    "finalListPlayer = pd.concat([marketValueTenth, marketValueFourteenth, listPlayer], axis=0)\n",
    "\n",
    "finalListPlayer"
   ]
  },
  {
   "cell_type": "code",
   "execution_count": null,
   "metadata": {},
   "outputs": [],
   "source": [
    "sortedListPlayer = finalListPlayer.sort_values(by=\"Club\")\n",
    "\n",
    "uniquePositions = sortedListPlayer[\"Position\"].unique()\n",
    "\n",
    "uniquePositions"
   ]
  },
  {
   "cell_type": "code",
   "execution_count": null,
   "metadata": {},
   "outputs": [],
   "source": [
    "sortedListPlayer[\"Position\"] = sortedListPlayer[\"Position\"].replace(\"Goalkeeper\", \"GK\")\n",
    "sortedListPlayer[\"Position\"] = sortedListPlayer[\"Position\"].replace([\"Centre-Back\", \"Left-Back\", \"Right-Back\"], \"DF\")\n",
    "sortedListPlayer[\"Position\"] = sortedListPlayer[\"Position\"].replace([\"Defensive Midfield\", \"Central Midfield\", \"Right Midfield\", \"Left Midfield\", \"Attacking Midfield\"], \"MF\")\n",
    "sortedListPlayer[\"Position\"] = sortedListPlayer[\"Position\"].replace([\"Centre-Forward\", \"Left Winger\", \"Right Winger\", \"Second Striker\"], \"FW\")\n",
    "\n",
    "sortedListPlayer.index = range(0, len(sortedListPlayer))\n",
    "\n",
    "sortedListPlayer"
   ]
  },
  {
   "cell_type": "code",
   "execution_count": null,
   "metadata": {},
   "outputs": [],
   "source": [
    "duplicatesByPlayer = sortedListPlayer[sortedListPlayer.duplicated(subset=[\"Player\"], keep=False)]\n",
    "duplicatesByPlayer"
   ]
  }
 ],
 "metadata": {
  "kernelspec": {
   "display_name": ".venv",
   "language": "python",
   "name": "python3"
  },
  "language_info": {
   "codemirror_mode": {
    "name": "ipython",
    "version": 3
   },
   "file_extension": ".py",
   "mimetype": "text/x-python",
   "name": "python",
   "nbconvert_exporter": "python",
   "pygments_lexer": "ipython3",
   "version": "3.13.0"
  }
 },
 "nbformat": 4,
 "nbformat_minor": 2
}
